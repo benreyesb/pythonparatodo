{
 "cells": [
  {
   "cell_type": "markdown",
   "metadata": {},
   "source": [
    "# Lenguajes de programación\n",
    "\n",
    "Escuchamos un montón el concepto `lenguaje de programación` pero en realidad ¿qué son?\n",
    "\n",
    "Así como los seres humanos nos comunicamos utilizando algún lenguaje, como el español en el que estás leyendo este texto, para comunicarnos con los ordenadores, también necesitamos un lenguaje.\n",
    "\n",
    "Los lenguajes tienen ciertas particularidades, como que cualquier combinación de palabras no hacen una palabra, por ejemplo: \"gwjpemvkw\" no es una palabra, por el contrario parece que un gato hubiera pasado por el teclado; o que las palabras deben ir en cierto órden para que tengan sentido. Nadie entenderá si digo: \"perro cadena el para azul cuadrado\", son palabras correctas, que no significan nada porque no cumplen con otro tipo órden, pero si nos entenderán si digo algo como: \"me encanta programar en Python\". \n",
    "\n",
    "Este par de ideas nos permiten introducir dos conceptos muy importantes para los lenguajes naturales (esos de nosotros los humanos) y los lenguajes de programación: palabras, sintaxis y semántica.\n",
    "\n",
    "### Palabras\n",
    "Las palabras son secuencias de letras, pero no cualquier secuencia, deben ser secuencias con significado, cualquier palabra que no sea válida en un lenguaje no representa nada. \n",
    "\n",
    "Por ejemplo, para el español \"hola\" es una palabra con un significado en específico y \"opinwrgqw\" no significa nada, para python \"if\" es una palabra y \"0wirjbgwe\" no significa nada\n",
    "\n",
    "### Sintaxis\n",
    "La sintaxis se refiere a esas reglas que deben tener las palabras en un lenguaje para poder formar oraciones, como que una oración en el lenguaje español puede tener la forma de artículo, pronombre, verbo, preposición, adjetivo.\n",
    "\n",
    "Por ejemplo, para el español \"el vaca trepa contra linda\" tiene una sintaxis válida, con palabras existentes, pero no significa nada, en Python \"for a in '1': pass\" es correcto pero no significa nada\n",
    "\n",
    "### Semántica\n",
    "La semántican expresa un significado real de un conjunto de palabras, es un subconjunto de la sintaxis apropiada que nos expresa una idea concreta.\n",
    "\n",
    "Por ejemplo siguiente la misma estructura sintáctica del ejemplo de sintaxis, \"la gata camina muy elegante\" comparte la misma estructura sintáctica pero esta vez si significa algo, al igual que en python \"for letra in 'hola': print(letra)\" también tiene un significado.\n",
    "\n",
    "Con estos tres conceptos podremos entender que es un lenguaje de programación: Un conjunto de palabras válido ordenado con una sintaxis válida y con un significado semántico.\n",
    "\n",
    "Y por fortuna las palabras de Python son mucho menos que las del español, las estructuras sintácticas de Python también son menos que las del español, así que sin duda para tu amigo mio que puedes leer y escribir en español, te será sencillo aprender a leer y escribir en Python."
   ]
  }
 ],
 "metadata": {
  "kernelspec": {
   "display_name": "Python 3",
   "language": "python",
   "name": "python3"
  },
  "language_info": {
   "codemirror_mode": {
    "name": "ipython",
    "version": 3
   },
   "file_extension": ".py",
   "mimetype": "text/x-python",
   "name": "python",
   "nbconvert_exporter": "python",
   "pygments_lexer": "ipython3",
   "version": "3.7.2"
  }
 },
 "nbformat": 4,
 "nbformat_minor": 2
}
