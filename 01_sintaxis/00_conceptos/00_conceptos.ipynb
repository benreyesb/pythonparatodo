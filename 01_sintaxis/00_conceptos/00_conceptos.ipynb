{
 "cells": [
  {
   "cell_type": "markdown",
   "metadata": {},
   "source": [
    "# Conceptos\n",
    "\n",
    "Python es un lenguaje multiparadigma, propuesto en 1991 por Guido Van Rossum, diseñado para facilitar la legibilidad, obligando a los escritores de código a hacer su código legible.\n",
    "\n",
    "A lo largo de los años, Python se ha convertido en un lenguaje por excelencia para la enseñanza de programación, pero no se limita a eso, sus aplicaciones cubren áreas como el desarrollo de aplicaciones de escritorio, web, scripts de automatización, internet de las cosas, procesamiento de datos, aprendizaje automático, aprendizaje profundo y muchas otras aplicaciones.\n",
    "\n",
    "Como cualquier otro lenguaje de programación imperativo, python nos permite definir variables, estructuras de control y funciones, sobre estos tres conceptos trabajaremos en este capítulo.\n",
    "\n",
    "> Un lenguaje de programación *imperativo* es aquel donde el programador explícitamente le dice al lenguaje de programación *cómo* hacer las cosas, en contraste con los lenguajes de programación *declarativos* donde se le dice al lenguaje de programación *qué* hacer."
   ]
  }
 ],
 "metadata": {
  "kernelspec": {
   "display_name": "Python 3",
   "language": "python",
   "name": "python3"
  },
  "language_info": {
   "codemirror_mode": {
    "name": "ipython",
    "version": 3
   },
   "file_extension": ".py",
   "mimetype": "text/x-python",
   "name": "python",
   "nbconvert_exporter": "python",
   "pygments_lexer": "ipython3",
   "version": "3.7.2"
  }
 },
 "nbformat": 4,
 "nbformat_minor": 2
}
