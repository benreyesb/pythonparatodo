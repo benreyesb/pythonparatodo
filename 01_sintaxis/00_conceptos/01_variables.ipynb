{
 "cells": [
  {
   "cell_type": "markdown",
   "metadata": {},
   "source": [
    "## Variables\n",
    "\n",
    "Una variable es una entidad nombrada que almacena valores dentro de un dominio definido.\n",
    "\n",
    "Suena dificil, ¿cierto? descompongamos la definición un poco:\n",
    "\n",
    "- Entidad nombrada: es una abstracción de la realidad con un nombre, por ejemplo: al decir Mauricio, estoy relacionando a una persona de género másculino en un texto, esto sería una entidad nombrada, al igual que carro, leon o mesa.\n",
    "- Valores: son cualidades de la realidad, por ejemplo: Mauricio tiene `24` años, el carro es de color `\"rojo\"`, león tiene una `\"melena\"` y la silla tiene `4` patas.\n",
    "- Dominio definido: el conjunto de valores posibles que puede se pueden tomar, por ejemplo: los números enteros definen un dominio {1,2,3,4,...}, los números reales {1, 1.1, 1.11, 1.111, ...}, los números imaginarios {1+0j, 1+1j, 1+2j, 1+3j, ...}, las cadenas de caracteres {\"\", \"a\", \"b\", \"c\", ...}.\n",
    "\n",
    "> En python utilizamos `j` en lugar de `i` para referirnos al [número imaginario](https://es.wikipedia.org/wiki/N%C3%BAmero_imaginario), en parte porque históricamente `i` se relaciona con la variable de iteración de in ciclo imperativo.\n",
    "\n",
    "Con esto en mente, vamos definamos la siguiente expresión de definición de variable: "
   ]
  },
  {
   "cell_type": "code",
   "execution_count": 4,
   "metadata": {},
   "outputs": [],
   "source": [
    "x = 5"
   ]
  },
  {
   "cell_type": "markdown",
   "metadata": {},
   "source": [
    "`x` en este caso sería la entidad nombrada, `5` sería el valor y `int` sería el dominio,\n",
    "\n",
    "> En python existen diversos dominios definidos, los cuales son\n",
    "  - `int`: números enteros, sin parte decimal\n",
    "  - `float`: números flotantes, con parte decimal (el separador decimal es `.`)\n",
    "  - `complex`: números imaginarios, con parte imaginaria (el número imaginario es `j`)\n",
    "  - `str`: cadenas de caracteres, secuencia de símbolos arbitrarios delimitada por comillas `\"`\n",
    "  \n",
    "> Existen otros dominios relacionados con estructuras de mas alto nivel los cuales estudiaremos en siguientes capítulos\n",
    "  \n",
    "Experimenta un poco con la definición de variables sobre estos dominios, aquí te dejo unos ejemplos.\n",
    "\n",
    "> Recuerda que para ejecutar una celda debes presionar shift + enter\n",
    "\n",
    "> También puedes obtener el valor almacenado en una variable haciendo referencia a su entidad nombrada\n",
    "\n",
    "> Para obtener el dominio de una variable puede utilizar la función type"
   ]
  },
  {
   "cell_type": "code",
   "execution_count": 1,
   "metadata": {},
   "outputs": [],
   "source": [
    "hola_soy_un_entero = 10"
   ]
  },
  {
   "cell_type": "code",
   "execution_count": 3,
   "metadata": {},
   "outputs": [
    {
     "data": {
      "text/plain": [
       "10"
      ]
     },
     "execution_count": 3,
     "metadata": {},
     "output_type": "execute_result"
    }
   ],
   "source": [
    "hola_soy_un_entero"
   ]
  },
  {
   "cell_type": "code",
   "execution_count": 5,
   "metadata": {},
   "outputs": [
    {
     "data": {
      "text/plain": [
       "int"
      ]
     },
     "execution_count": 5,
     "metadata": {},
     "output_type": "execute_result"
    }
   ],
   "source": [
    "type(hola_soy_un_entero)"
   ]
  },
  {
   "cell_type": "code",
   "execution_count": 6,
   "metadata": {},
   "outputs": [],
   "source": [
    "hola_soy_un_flotante = 10.1"
   ]
  },
  {
   "cell_type": "code",
   "execution_count": 7,
   "metadata": {},
   "outputs": [
    {
     "data": {
      "text/plain": [
       "10.1"
      ]
     },
     "execution_count": 7,
     "metadata": {},
     "output_type": "execute_result"
    }
   ],
   "source": [
    "hola_soy_un_flotante"
   ]
  },
  {
   "cell_type": "code",
   "execution_count": 8,
   "metadata": {},
   "outputs": [
    {
     "data": {
      "text/plain": [
       "float"
      ]
     },
     "execution_count": 8,
     "metadata": {},
     "output_type": "execute_result"
    }
   ],
   "source": [
    "type(hola_soy_un_flotante)"
   ]
  },
  {
   "cell_type": "code",
   "execution_count": null,
   "metadata": {},
   "outputs": [],
   "source": []
  }
 ],
 "metadata": {
  "kernelspec": {
   "display_name": "Python 3",
   "language": "python",
   "name": "python3"
  },
  "language_info": {
   "codemirror_mode": {
    "name": "ipython",
    "version": 3
   },
   "file_extension": ".py",
   "mimetype": "text/x-python",
   "name": "python",
   "nbconvert_exporter": "python",
   "pygments_lexer": "ipython3",
   "version": "3.7.2"
  }
 },
 "nbformat": 4,
 "nbformat_minor": 2
}
