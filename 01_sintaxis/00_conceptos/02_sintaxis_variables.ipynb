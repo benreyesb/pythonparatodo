{
 "cells": [
  {
   "cell_type": "markdown",
   "metadata": {},
   "source": [
    "# Sintaxis de las variables\n",
    "\n",
    "Cada que me preguntan qué es Python, yo digo que es un *lenguaje* de programación, y como todo lenguaje, tiene reglas.\n",
    "\n",
    "Sintaxis es el conjunto de reglas que deben seguir las oraciones para tener sentido, por ejemplo, si yo escribo *caballo el mesa cincuenta tuyo lindo*, nadie puede entender lo que quise decir, por no dije nada significado no quedó claro, y de seguro si te lo digo en persona tu respuesta natural va a ser:\n",
    "\n",
    "![Qué](https://media.giphy.com/media/mcUUqTzaIK5LW/giphy.gif)\n",
    "\n",
    "Cuando escribimos código en Python estamos teniendo una conversación con el *interprete de Python*, que es nuestro interlocutor, y si no nos entiende va a expresarnos que no entiende. Mira este ejemplo:"
   ]
  },
  {
   "cell_type": "code",
   "execution_count": 1,
   "metadata": {},
   "outputs": [
    {
     "ename": "SyntaxError",
     "evalue": "invalid syntax (<ipython-input-1-4e7f5f5d1fcb>, line 1)",
     "output_type": "error",
     "traceback": [
      "\u001b[0;36m  File \u001b[0;32m\"<ipython-input-1-4e7f5f5d1fcb>\"\u001b[0;36m, line \u001b[0;32m1\u001b[0m\n\u001b[0;31m    = 35 \"mi nombre\" 1+0j\u001b[0m\n\u001b[0m    ^\u001b[0m\n\u001b[0;31mSyntaxError\u001b[0m\u001b[0;31m:\u001b[0m invalid syntax\n"
     ]
    }
   ],
   "source": [
    "= 35 \"mi nombre\" 1+0j"
   ]
  },
  {
   "cell_type": "markdown",
   "metadata": {},
   "source": [
    "Claramente el *interprete de Python* no sabe enviar gifs animados, pero su manera de decir *¿qué?* es mostrandonos un error, donde nos dice por qué nos estamos equivocando y nos señala donde, usualmente la línea de código donde nos pudimos haber equivocado.\n",
    "\n",
    "> Esto no siempre es cierto, a veces rompemos tantas reglas que el interprete sencillamente no sabe donde apuntar y termina apuntando a lugares que nada que ver, pero esa es una historia.\n",
    "\n",
    "La definición de variables tiene una sintaxis sencilla:\n",
    "\n",
    "- Las entidades nombradas pueden ser una cantidad de símbolos arbitrarios, que inicien con una letra y que no contengan símbolos restringidos\n",
    "- La separación entre entidad nombrada y valor debe ser un `=`\n",
    "- El valor debe ser una expresión correcta en Python\n",
    "\n",
    "Ahora, ¿qué son símbolos restringidos? aquí una lista no exhaustiva:\n",
    "\n",
    "- `+`: operador de suma matemática\n",
    "- `-`: operador de resta matemática\n",
    "- `*`: operador de multiplicación matemática\n",
    "- `/`: operador de división matemática\n",
    "- `%`: operador de módulo matemático\n",
    "- `~`: operador de negación binaria\n",
    "- `(`: operador de precedencia de operación\n",
    "- `)`: operador de cierre de precedencia de operación\n",
    "- `|`: operador o binario\n",
    "- `&`: operador y binario\n",
    "- `^`: operador o exclusivo binario\n",
    "- `<`: operador menor que\n",
    "- `>`: operador mayor que\n",
    "- `#`: indicador de comentario\n",
    "- `@`: indicador de decorador\n",
    "- `[`: operador de acceso a iterables\n",
    "- `]`: indicaror de cierre de acceso a iterables\n",
    "- `{`: operador de definición de conjuntos\n",
    "- `}`: operador de cierre de definición de conjuntos\n",
    "- `\\`: operador de continuación de línea\n",
    "- `\"`: operador de inicio/cierre de cadena de caracteres\n",
    "- `'`: operador de inicio/cierre de cadena de caracteres\n",
    "- `,`: operador de separación de iterables\n",
    "- `.`: operador de acceso a objetos\n",
    "- `;`: operador de separación de sentencias\n",
    "\n",
    "Existen otros caracteres que simplemente no son válidos para el lenguaje ``?,$,` ``\n",
    "\n",
    "Por último, las expresiones correctas en Python son todas aquellas expresiones que sintácticamente sean correctas y además de eso retornen un valor.\n",
    "\n",
    "Te invito a que ahora definas algunas variables un poco mas complejas, experimentando un poco con los operadores que hemos mencionado; propiamente no los hemos definido, pero de seguro tienes familiaridad con algunos operadores matemáticos y booleanos, te dejo algunos ejemplos"
   ]
  },
  {
   "cell_type": "code",
   "execution_count": 2,
   "metadata": {},
   "outputs": [],
   "source": [
    "mi_suma = 5+8"
   ]
  },
  {
   "cell_type": "code",
   "execution_count": 3,
   "metadata": {},
   "outputs": [
    {
     "data": {
      "text/plain": [
       "13"
      ]
     },
     "execution_count": 3,
     "metadata": {},
     "output_type": "execute_result"
    }
   ],
   "source": [
    "mi_suma"
   ]
  },
  {
   "cell_type": "code",
   "execution_count": 4,
   "metadata": {},
   "outputs": [],
   "source": [
    "precedencia_de_operadores = (1+2)*3"
   ]
  },
  {
   "cell_type": "code",
   "execution_count": 5,
   "metadata": {},
   "outputs": [
    {
     "data": {
      "text/plain": [
       "9"
      ]
     },
     "execution_count": 5,
     "metadata": {},
     "output_type": "execute_result"
    }
   ],
   "source": [
    "precedencia_de_operadores"
   ]
  },
  {
   "cell_type": "code",
   "execution_count": 8,
   "metadata": {},
   "outputs": [],
   "source": [
    "sin_precedencia_de_operadores = 1+2*3"
   ]
  },
  {
   "cell_type": "code",
   "execution_count": 9,
   "metadata": {},
   "outputs": [
    {
     "data": {
      "text/plain": [
       "7"
      ]
     },
     "execution_count": 9,
     "metadata": {},
     "output_type": "execute_result"
    }
   ],
   "source": [
    "sin_precedencia_de_operadores"
   ]
  },
  {
   "cell_type": "code",
   "execution_count": 10,
   "metadata": {},
   "outputs": [],
   "source": [
    "comparación_de_numeros = 5 > 8 "
   ]
  },
  {
   "cell_type": "code",
   "execution_count": 11,
   "metadata": {},
   "outputs": [
    {
     "data": {
      "text/plain": [
       "False"
      ]
     },
     "execution_count": 11,
     "metadata": {},
     "output_type": "execute_result"
    }
   ],
   "source": [
    "comparación_de_numeros"
   ]
  },
  {
   "cell_type": "code",
   "execution_count": 12,
   "metadata": {},
   "outputs": [],
   "source": [
    "comparación_de_numeros_2 = 5 < 8"
   ]
  },
  {
   "cell_type": "code",
   "execution_count": 13,
   "metadata": {},
   "outputs": [
    {
     "data": {
      "text/plain": [
       "True"
      ]
     },
     "execution_count": 13,
     "metadata": {},
     "output_type": "execute_result"
    }
   ],
   "source": [
    "comparación_de_numeros_2"
   ]
  },
  {
   "cell_type": "code",
   "execution_count": null,
   "metadata": {},
   "outputs": [],
   "source": []
  }
 ],
 "metadata": {
  "kernelspec": {
   "display_name": "Python 3",
   "language": "python",
   "name": "python3"
  },
  "language_info": {
   "codemirror_mode": {
    "name": "ipython",
    "version": 3
   },
   "file_extension": ".py",
   "mimetype": "text/x-python",
   "name": "python",
   "nbconvert_exporter": "python",
   "pygments_lexer": "ipython3",
   "version": "3.7.2"
  }
 },
 "nbformat": 4,
 "nbformat_minor": 2
}
